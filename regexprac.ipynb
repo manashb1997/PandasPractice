{
 "cells": [
  {
   "cell_type": "code",
   "execution_count": 11,
   "metadata": {},
   "outputs": [],
   "source": [
    "import re "
   ]
  },
  {
   "cell_type": "code",
   "execution_count": 12,
   "metadata": {},
   "outputs": [
    {
     "data": {
      "text/plain": [
       "re.compile(r'hello', re.UNICODE)"
      ]
     },
     "execution_count": 12,
     "metadata": {},
     "output_type": "execute_result"
    }
   ],
   "source": [
    "pattern = re.compile(\"hello\")\n",
    "pattern"
   ]
  },
  {
   "cell_type": "code",
   "execution_count": 13,
   "metadata": {},
   "outputs": [
    {
     "data": {
      "text/plain": [
       "re.compile(r'apple', re.IGNORECASE|re.UNICODE)"
      ]
     },
     "execution_count": 13,
     "metadata": {},
     "output_type": "execute_result"
    }
   ],
   "source": [
    "pattern = re.compile(\"apple\", flags=re.I)\n",
    "#will match Apple, APPLE, ApPlE and so on \n",
    "pattern"
   ]
  },
  {
   "cell_type": "code",
   "execution_count": 14,
   "metadata": {},
   "outputs": [
    {
     "name": "stdout",
     "output_type": "stream",
     "text": [
      "<re.Match object; span=(0, 4), match='good'>\n"
     ]
    }
   ],
   "source": [
    "pattern = re.compile(\"Good\", flags = re.I)\n",
    "match = pattern.match(\"good morning\")\n",
    "print(match)"
   ]
  },
  {
   "cell_type": "code",
   "execution_count": 15,
   "metadata": {},
   "outputs": [
    {
     "name": "stdout",
     "output_type": "stream",
     "text": [
      "None\n"
     ]
    }
   ],
   "source": [
    "pattern = re.compile(\"Good\", flags = re.I)\n",
    "match = pattern.match(\"happy morning\")\n",
    "print(match)"
   ]
  },
  {
   "cell_type": "code",
   "execution_count": 16,
   "metadata": {},
   "outputs": [
    {
     "name": "stdout",
     "output_type": "stream",
     "text": [
      "<re.Match object; span=(13, 15), match='me'>\n"
     ]
    }
   ],
   "source": [
    "pattern = re.compile(\"me\")\n",
    "search = pattern.search(\"Can you find me?\")\n",
    "print(search)"
   ]
  },
  {
   "cell_type": "code",
   "execution_count": 17,
   "metadata": {},
   "outputs": [
    {
     "name": "stdout",
     "output_type": "stream",
     "text": [
      "['He', 'he']\n"
     ]
    }
   ],
   "source": [
    "pattern = re.compile(\"He\", flags = re.I)\n",
    "find = pattern.findall(\"He is smart and he is good.\")\n",
    "print(find)"
   ]
  },
  {
   "cell_type": "code",
   "execution_count": 18,
   "metadata": {},
   "outputs": [
    {
     "name": "stdout",
     "output_type": "stream",
     "text": [
      "<class 'callable_iterator'>\n",
      "<re.Match object; span=(8, 10), match='on'>\n",
      "<re.Match object; span=(15, 17), match='on'>\n",
      "<re.Match object; span=(22, 24), match='on'>\n"
     ]
    }
   ],
   "source": [
    "pattern = re.compile(\"on\")\n",
    "match_i = pattern.finditer(\"It goes on and on and on\")\n",
    "print(type(match_i))\n",
    "for match in match_i:\n",
    "    print(match)"
   ]
  },
  {
   "cell_type": "code",
   "execution_count": 19,
   "metadata": {},
   "outputs": [
    {
     "name": "stdout",
     "output_type": "stream",
     "text": [
      "None\n"
     ]
    }
   ],
   "source": [
    "pattern = re.compile(\"$1\")\n",
    "text = \"He asked me for $1\"\n",
    "res = pattern.search(text)\n",
    "print(res)"
   ]
  },
  {
   "cell_type": "code",
   "execution_count": 20,
   "metadata": {},
   "outputs": [
    {
     "name": "stdout",
     "output_type": "stream",
     "text": [
      "<re.Match object; span=(16, 18), match='$1'>\n"
     ]
    }
   ],
   "source": [
    "pattern = re.compile(\"\\$1\")\n",
    "text = \"He asked me for $1\"\n",
    "res = pattern.search(text)\n",
    "print(res)"
   ]
  },
  {
   "cell_type": "code",
   "execution_count": 55,
   "metadata": {},
   "outputs": [
    {
     "name": "stdout",
     "output_type": "stream",
     "text": [
      "<re.Match object; span=(1, 8), match='C:\\\\Sect'>\n"
     ]
    }
   ],
   "source": [
    "addrs = r\"\"\"\n",
    "C:\\Sect1\\first.txt\n",
    "C:\\Sect2\n",
    "C:\\fold3\n",
    "\"\"\"\n",
    "pattern = re.compile(r\"C:\\\\Sect\")\n",
    "print(pattern.search(addrs))"
   ]
  },
  {
   "cell_type": "code",
   "execution_count": 22,
   "metadata": {},
   "outputs": [
    {
     "name": "stdout",
     "output_type": "stream",
     "text": [
      "C:\\Section\\nirst.txt\n"
     ]
    }
   ],
   "source": [
    "print(\"C:\\\\Section\\\\nirst.txt\")"
   ]
  },
  {
   "cell_type": "code",
   "execution_count": 23,
   "metadata": {},
   "outputs": [
    {
     "name": "stdout",
     "output_type": "stream",
     "text": [
      "C:\\t1\\newfolder\n"
     ]
    }
   ],
   "source": [
    "print(r\"C:\\t1\\newfolder\")"
   ]
  },
  {
   "cell_type": "code",
   "execution_count": 24,
   "metadata": {},
   "outputs": [
    {
     "name": "stdout",
     "output_type": "stream",
     "text": [
      "C:\\t1\\newfolder\n"
     ]
    }
   ],
   "source": [
    "print(\"C:\\\\t1\\\\newfolder\")"
   ]
  },
  {
   "cell_type": "code",
   "execution_count": 66,
   "metadata": {},
   "outputs": [
    {
     "name": "stdout",
     "output_type": "stream",
     "text": [
      "['defense', 'defence', 'defense']\n"
     ]
    }
   ],
   "source": [
    "text = \"I love defense. In fact, this map is best for defence. No other map is easy for defense.\"\n",
    "pattern = re.compile('defen[cs]e')\n",
    "print(pattern.findall(text))"
   ]
  },
  {
   "cell_type": "code",
   "execution_count": 68,
   "metadata": {},
   "outputs": [
    {
     "data": {
      "text/plain": [
       "['1991', '1997']"
      ]
     },
     "execution_count": 68,
     "metadata": {},
     "output_type": "execute_result"
    }
   ],
   "source": [
    "text = \"He was born in 1991 and his brother was born in 1997.\"\n",
    "pattern = re.compile('[1-9][0-9][0-9][0-9]')\n",
    "pattern.findall(text)"
   ]
  },
  {
   "cell_type": "code",
   "execution_count": null,
   "metadata": {},
   "outputs": [],
   "source": []
  }
 ],
 "metadata": {
  "kernelspec": {
   "display_name": "Python 3",
   "language": "python",
   "name": "python3"
  },
  "language_info": {
   "codemirror_mode": {
    "name": "ipython",
    "version": 3
   },
   "file_extension": ".py",
   "mimetype": "text/x-python",
   "name": "python",
   "nbconvert_exporter": "python",
   "pygments_lexer": "ipython3",
   "version": "3.7.3"
  }
 },
 "nbformat": 4,
 "nbformat_minor": 2
}
